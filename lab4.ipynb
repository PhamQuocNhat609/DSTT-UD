{
 "cells": [
  {
   "cell_type": "code",
   "execution_count": 24,
   "id": "2ed524d6",
   "metadata": {},
   "outputs": [
    {
     "name": "stdout",
     "output_type": "stream",
     "text": [
      "Hệ có vô số nghiệm\n"
     ]
    }
   ],
   "source": [
    "import numpy as np\n",
    "A = np.array([[-1, 2, -3],\n",
    "              [2, -2, 1],\n",
    "              [3, -4, 4]])\n",
    "\n",
    "b = np.array([1, 3, 2])\n",
    "\n",
    "rank_A = np.linalg.matrix_rank(A)\n",
    "augmented_matrix = np.column_stack((A, b))\n",
    "rank_augmented = np.linalg.matrix_rank(augmented_matrix)\n",
    "if rank_A == rank_augmented:\n",
    "    if rank_A == A.shape[1]:\n",
    "        solution = np.linalg.solve(A, b)\n",
    "        print(\"Hệ có nghiệm duy nhất:\")\n",
    "        print(f\"a = {solution[0]}\")\n",
    "        print(f\"e = {solution[1]}\")\n",
    "        print(f\"f = {solution[2]}\")\n",
    "    else:\n",
    "        print(\"Hệ có vô số nghiệm\")\n",
    "else:\n",
    "    print(\"Hệ vô nghiệm\")"
   ]
  },
  {
   "cell_type": "code",
   "execution_count": 25,
   "id": "93b5a1e3",
   "metadata": {},
   "outputs": [
    {
     "name": "stdout",
     "output_type": "stream",
     "text": [
      "sgn([2,1,3,4]) = -1\n",
      "sgn([1,2,3,4]) = 1\n",
      "sgn([4,3,2,1]) = 1\n"
     ]
    }
   ],
   "source": [
    "import numpy as np\n",
    "\n",
    "n = 4\n",
    "X = np.array(range(1, n + 1))\n",
    "\n",
    "def sgn_by_def(sigma):\n",
    "    ket_qua = 1.0\n",
    "    for i in range(len(X) - 1):\n",
    "        for j in range(i + 1, len(X)):\n",
    "            ket_qua = ket_qua * ((X[i] - X[j]) / (sigma[i] - sigma[j]))\n",
    "    return int(ket_qua)\n",
    "\n",
    "sigma = np.array([2, 1, 3, 4])\n",
    "print(\"sgn([2,1,3,4]) =\", sgn_by_def(sigma))  \n",
    "\n",
    "sigma = np.array([1, 2, 3, 4])\n",
    "print(\"sgn([1,2,3,4]) =\", sgn_by_def(sigma)) \n",
    "\n",
    "sigma = np.array([4, 3, 2, 1])\n",
    "print(\"sgn([4,3,2,1]) =\", sgn_by_def(sigma))  \n"
   ]
  },
  {
   "cell_type": "code",
   "execution_count": 26,
   "id": "847282ee",
   "metadata": {},
   "outputs": [
    {
     "name": "stdout",
     "output_type": "stream",
     "text": [
      "Định thức cấp 2: + a11a22 - a12a21\n",
      "Định thức cấp 3: + a11a22a33 - a11a23a32 - a12a21a33 + a12a23a31 + a13a21a32 - a13a22a31\n"
     ]
    }
   ],
   "source": [
    "from itertools import permutations\n",
    "import numpy as np\n",
    "\n",
    "def sgn_by_def(sigma):\n",
    "    k = 0\n",
    "    n = len(sigma)\n",
    "    for i in range(n):\n",
    "        for j in range(i+1, n):\n",
    "            if sigma[i] > sigma[j]:\n",
    "                k += 1\n",
    "    return (-1) ** k\n",
    "\n",
    "def phatsinh_dinhthuc(n):\n",
    "    X = [i for i in range(1, n + 1)]\n",
    "    Sn = list(permutations(X))  \n",
    "    dinhthuc = \"\"\n",
    "\n",
    "    for sn in Sn:\n",
    "        sigma = np.array(sn)\n",
    "        dau = sgn_by_def(sigma)\n",
    "        product = \"\"\n",
    "\n",
    "        for i in range(n):\n",
    "            row = i + 1\n",
    "            col = sn[i]\n",
    "            product += f\"a{row}{col}\"\n",
    "\n",
    "        if dau == 1:\n",
    "            product = \" + \" + product\n",
    "        else:\n",
    "            product = \" - \" + product\n",
    "\n",
    "        dinhthuc += product\n",
    "\n",
    "    return dinhthuc.strip()\n",
    "\n",
    "print(\"Định thức cấp 2:\", phatsinh_dinhthuc(2))\n",
    "print(\"Định thức cấp 3:\", phatsinh_dinhthuc(3))\n"
   ]
  },
  {
   "cell_type": "code",
   "execution_count": 27,
   "id": "e2d4c49e",
   "metadata": {},
   "outputs": [
    {
     "name": "stdout",
     "output_type": "stream",
     "text": [
      "Định thức cấp 2: + a11a22 - a12a21\n",
      "Định thức cấp 3: + a11a22a33 - a11a23a32 - a12a21a33 + a12a23a31 + a13a21a32 - a13a22a31\n"
     ]
    }
   ],
   "source": [
    "from itertools import permutations\n",
    "import numpy as np\n",
    "\n",
    "# Hàm tính dấu hoán vị theo định nghĩa\n",
    "def sgn_by_def(sigma):\n",
    "    k = 0\n",
    "    n = len(sigma)\n",
    "    for i in range(n):\n",
    "        for j in range(i+1, n):\n",
    "            if sigma[i] > sigma[j]:\n",
    "                k += 1\n",
    "    return (-1) ** k\n",
    "\n",
    "# Hàm phát sinh định thức\n",
    "def phatsinh_dinhthuc(n):\n",
    "    x = [i for i in range(1, n + 1)]\n",
    "    Sn = list(permutations(x))\n",
    "    dinhthuc = \"\"\n",
    "\n",
    "    for sn in Sn:\n",
    "        sigma = np.array(sn)\n",
    "        product = \"\"\n",
    "        for i in range(1, n + 1):\n",
    "            product += \"a\" + str(i) + str(sn[i - 1])\n",
    "        dau = sgn_by_def(sigma)\n",
    "        if dau == 1:\n",
    "            product = \" + \" + product\n",
    "        else:\n",
    "            product = \" - \" + product\n",
    "        dinhthuc += product\n",
    "\n",
    "    return dinhthuc.strip()\n",
    "\n",
    "# Thử nghiệm\n",
    "print(\"Định thức cấp 2:\", phatsinh_dinhthuc(2))\n",
    "print(\"Định thức cấp 3:\", phatsinh_dinhthuc(3))\n"
   ]
  },
  {
   "cell_type": "code",
   "execution_count": 28,
   "id": "807486a6",
   "metadata": {},
   "outputs": [
    {
     "name": "stdout",
     "output_type": "stream",
     "text": [
      "Giá trị định thức: 85\n"
     ]
    }
   ],
   "source": [
    "def sgn_by_def(sigma):\n",
    "    n = len(sigma)\n",
    "    count = 0\n",
    "    for i in range(n):\n",
    "        for j in range(i + 1, n):\n",
    "            if sigma[i] > sigma[j]:\n",
    "                count += 1\n",
    "    return (-1) ** count\n",
    "import math\n",
    "\n",
    "def tinh_toan_dinh_thuc(A):\n",
    "    n = int(math.sqrt(A.size))  # Kích thước ma trận vuông\n",
    "    X = [i for i in range(1, n + 1)]\n",
    "    Sn = list(permutations(X))  # Tập hoán vị\n",
    "\n",
    "    dinhthuc = 0  # Khởi tạo giá trị định thức\n",
    "\n",
    "    for sn in Sn:\n",
    "        sigma = np.array(sn)\n",
    "        product = 1\n",
    "\n",
    "        for i in range(n):\n",
    "            row = i\n",
    "            col = sn[i] - 1  # Chỉ số mảng bắt đầu từ 0\n",
    "            product *= A[row][col]\n",
    "\n",
    "        dau = sgn_by_def(sigma)\n",
    "        dinhthuc += dau * product\n",
    "\n",
    "    return dinhthuc\n",
    "matran = np.array([\n",
    "    [3, 5, -8],\n",
    "    [4, 12, -1],\n",
    "    [2, 5, 3]\n",
    "])\n",
    "\n",
    "print(\"Giá trị định thức:\", tinh_toan_dinh_thuc(matran))\n"
   ]
  },
  {
   "cell_type": "code",
   "execution_count": 29,
   "id": "04a74a8d",
   "metadata": {},
   "outputs": [
    {
     "name": "stdout",
     "output_type": "stream",
     "text": [
      "-14.0 -28.0 14.000000000000004\n",
      "Hai nghiệm của phương trình là:  2.0 -1.0000000000000002\n"
     ]
    }
   ],
   "source": [
    "from scipy import linalg\n",
    "\n",
    "def tinhtoan_dinhthuc(matrix):\n",
    "    return linalg.det(matrix)\n",
    "\n",
    "# Khai báo ma trận\n",
    "A = np.array([[4, -2], [3, -5]])\n",
    "A1 = np.array([[10, -2], [11, -5]])\n",
    "A2 = np.array([[4, 10], [3, 11]])\n",
    "\n",
    "# Tính định thức\n",
    "detA = tinhtoan_dinhthuc(A)\n",
    "detA1 = tinhtoan_dinhthuc(A1)\n",
    "detA2 = tinhtoan_dinhthuc(A2)\n",
    "\n",
    "# In kết quả\n",
    "print(detA, detA1, detA2)\n",
    "\n",
    "if (detA != 0):\n",
    "    x1 = detA1 / detA\n",
    "    x2 = detA2 / detA\n",
    "    print(\"Hai nghiệm của phương trình là: \", x1, x2)"
   ]
  },
  {
   "cell_type": "code",
   "execution_count": 30,
   "id": "40c58cc9",
   "metadata": {},
   "outputs": [],
   "source": [
    "import numpy as np\n",
    "from scipy import linalg\n",
    "\n",
    "# Khai báo ma trận hệ số\n",
    "A = np.array([[1, 2, -3],\n",
    "              [2, -2, 1],\n",
    "              [3, -4, 4]])\n",
    "\n",
    "# Khai báo vector h\n",
    "B = np.array([1, 3, 2])"
   ]
  },
  {
   "cell_type": "code",
   "execution_count": 31,
   "id": "16ae7775",
   "metadata": {},
   "outputs": [
    {
     "name": "stdout",
     "output_type": "stream",
     "text": [
      "Nghiệm của phương trình:  x= -0.0 y= -2.500000000000001 z= -2.000000000000001\n"
     ]
    }
   ],
   "source": [
    "# Tính định thức của ma trận A\n",
    "det = linalg.det(A)\n",
    "\n",
    "# Tính định thức của các ma trận thay thế\n",
    "A1 = A.copy()\n",
    "A1[:, 0] = B\n",
    "detX = linalg.det(A1)\n",
    "\n",
    "A2 = A.copy()\n",
    "A2[:, 1] = B\n",
    "detY = linalg.det(A2)\n",
    "\n",
    "A3 = A.copy()\n",
    "A3[:, 2] = B\n",
    "detZ = linalg.det(A3)\n",
    "\n",
    "# Tính x, y, z\n",
    "x, y, z = detX/det, detY/det, detZ/det\n",
    "print(\"Nghiệm của phương trình: \", \"x=\", x, \"y=\", y, \"z=\", z)"
   ]
  },
  {
   "cell_type": "code",
   "execution_count": 32,
   "id": "f926df4b",
   "metadata": {},
   "outputs": [
    {
     "name": "stdout",
     "output_type": "stream",
     "text": [
      "Nghiệm:  x= -0.0 y= -2.500000000000001 z= -2.000000000000001\n"
     ]
    }
   ],
   "source": [
    "def tinhtoan_dinhthuc(matrix):\n",
    "    return linalg.det(matrix)\n",
    "\n",
    "# Tính định thức của ma trận A\n",
    "det = tinhtoan_dinhthuc(A)\n",
    "\n",
    "# Tính định thức của các ma trận thay thế\n",
    "A1 = A.copy()\n",
    "A1[:, 0] = B\n",
    "detX = tinhtoan_dinhthuc(A1)\n",
    "\n",
    "A2 = A.copy()\n",
    "A2[:, 1] = B\n",
    "detY = tinhtoan_dinhthuc(A2)\n",
    "\n",
    "A3 = A.copy()\n",
    "A3[:, 2] = B\n",
    "detZ = tinhtoan_dinhthuc(A3)\n",
    "\n",
    "# Tính x, y, z\n",
    "x, y, z = detX/det, detY/det, detZ/det\n",
    "print(\"Nghiệm: \", \"x=\", x, \"y=\", y, \"z=\", z)"
   ]
  },
  {
   "cell_type": "code",
   "execution_count": 33,
   "id": "a4f3f32f",
   "metadata": {},
   "outputs": [
    {
     "name": "stdout",
     "output_type": "stream",
     "text": [
      "Ma trận hệ số kép:\n",
      " [[ 2. -3.]\n",
      " [-3.  4.]]\n"
     ]
    }
   ],
   "source": [
    "#Bai Tap Chuong\n",
    "import numpy as np\n",
    "\n",
    "def cofactor_matrix(A):\n",
    "    cofactors = np.zeros(A.shape)\n",
    "    for i in range(A.shape[0]):\n",
    "        for j in range(A.shape[1]):\n",
    "            minor = np.delete(np.delete(A, i, axis=0), j, axis=1)\n",
    "            cofactors[i, j] = ((-1) ** (i + j)) * np.linalg.det(minor)\n",
    "    return cofactors\n",
    "\n",
    "# Ví dụ với ma trận A\n",
    "A = np.array([[4, 3], [3, 2]])\n",
    "cofactors = cofactor_matrix(A)\n",
    "print(\"Ma trận hệ số kép:\\n\", cofactors)"
   ]
  },
  {
   "cell_type": "code",
   "execution_count": 34,
   "id": "8625eb66",
   "metadata": {},
   "outputs": [
    {
     "name": "stdout",
     "output_type": "stream",
     "text": [
      "Ma trận liên hợp:\n",
      " [[ 2. -3.]\n",
      " [-3.  4.]]\n"
     ]
    }
   ],
   "source": [
    "def adjoint_matrix(A):\n",
    "    cofactors = cofactor_matrix(A)\n",
    "    return cofactors.T  # Chuyển vị của ma trận hệ số kép\n",
    "\n",
    "# Tính ma trận liên hợp\n",
    "adjoint = adjoint_matrix(A)\n",
    "print(\"Ma trận liên hợp:\\n\", adjoint)"
   ]
  },
  {
   "cell_type": "code",
   "execution_count": 35,
   "id": "b55ffcbd",
   "metadata": {},
   "outputs": [
    {
     "ename": "NonSquareMatrixError",
     "evalue": "",
     "output_type": "error",
     "traceback": [
      "\u001b[1;31m---------------------------------------------------------------------------\u001b[0m",
      "\u001b[1;31mNonSquareMatrixError\u001b[0m                      Traceback (most recent call last)",
      "Cell \u001b[1;32mIn[35], line 15\u001b[0m\n\u001b[0;32m     10\u001b[0m matrix \u001b[38;5;241m=\u001b[39m sp\u001b[38;5;241m.\u001b[39mMatrix([[points[\u001b[38;5;241m0\u001b[39m][\u001b[38;5;241m0\u001b[39m], points[\u001b[38;5;241m0\u001b[39m][\u001b[38;5;241m1\u001b[39m], points[\u001b[38;5;241m0\u001b[39m][\u001b[38;5;241m0\u001b[39m]\u001b[38;5;241m*\u001b[39m\u001b[38;5;241m*\u001b[39m\u001b[38;5;241m2\u001b[39m \u001b[38;5;241m+\u001b[39m points[\u001b[38;5;241m0\u001b[39m][\u001b[38;5;241m1\u001b[39m]\u001b[38;5;241m*\u001b[39m\u001b[38;5;241m*\u001b[39m\u001b[38;5;241m2\u001b[39m, \u001b[38;5;241m1\u001b[39m],\n\u001b[0;32m     11\u001b[0m                      [points[\u001b[38;5;241m1\u001b[39m][\u001b[38;5;241m0\u001b[39m], points[\u001b[38;5;241m1\u001b[39m][\u001b[38;5;241m1\u001b[39m], points[\u001b[38;5;241m1\u001b[39m][\u001b[38;5;241m0\u001b[39m]\u001b[38;5;241m*\u001b[39m\u001b[38;5;241m*\u001b[39m\u001b[38;5;241m2\u001b[39m \u001b[38;5;241m+\u001b[39m points[\u001b[38;5;241m1\u001b[39m][\u001b[38;5;241m1\u001b[39m]\u001b[38;5;241m*\u001b[39m\u001b[38;5;241m*\u001b[39m\u001b[38;5;241m2\u001b[39m, \u001b[38;5;241m1\u001b[39m],\n\u001b[0;32m     12\u001b[0m                      [points[\u001b[38;5;241m2\u001b[39m][\u001b[38;5;241m0\u001b[39m], points[\u001b[38;5;241m2\u001b[39m][\u001b[38;5;241m1\u001b[39m], points[\u001b[38;5;241m2\u001b[39m][\u001b[38;5;241m0\u001b[39m]\u001b[38;5;241m*\u001b[39m\u001b[38;5;241m*\u001b[39m\u001b[38;5;241m2\u001b[39m \u001b[38;5;241m+\u001b[39m points[\u001b[38;5;241m2\u001b[39m][\u001b[38;5;241m1\u001b[39m]\u001b[38;5;241m*\u001b[39m\u001b[38;5;241m*\u001b[39m\u001b[38;5;241m2\u001b[39m, \u001b[38;5;241m1\u001b[39m]])\n\u001b[0;32m     14\u001b[0m \u001b[38;5;66;03m# Tính định thức\u001b[39;00m\n\u001b[1;32m---> 15\u001b[0m det \u001b[38;5;241m=\u001b[39m \u001b[43mmatrix\u001b[49m\u001b[38;5;241;43m.\u001b[39;49m\u001b[43mdet\u001b[49m\u001b[43m(\u001b[49m\u001b[43m)\u001b[49m\n\u001b[0;32m     16\u001b[0m \u001b[38;5;28mprint\u001b[39m(\u001b[38;5;124m\"\u001b[39m\u001b[38;5;124mĐịnh thức của ma trận:\u001b[39m\u001b[38;5;130;01m\\n\u001b[39;00m\u001b[38;5;124m\"\u001b[39m, det)\n\u001b[0;32m     18\u001b[0m \u001b[38;5;66;03m# Giải phương trình đường tròn\u001b[39;00m\n",
      "File \u001b[1;32mc:\\Users\\Admin\\AppData\\Local\\Programs\\Python\\Python310\\lib\\site-packages\\sympy\\matrices\\matrixbase.py:3080\u001b[0m, in \u001b[0;36mMatrixBase.det\u001b[1;34m(self, method, iszerofunc)\u001b[0m\n\u001b[0;32m   3079\u001b[0m \u001b[38;5;28;01mdef\u001b[39;00m\u001b[38;5;250m \u001b[39m\u001b[38;5;21mdet\u001b[39m(\u001b[38;5;28mself\u001b[39m, method\u001b[38;5;241m=\u001b[39m\u001b[38;5;124m\"\u001b[39m\u001b[38;5;124mbareiss\u001b[39m\u001b[38;5;124m\"\u001b[39m, iszerofunc\u001b[38;5;241m=\u001b[39m\u001b[38;5;28;01mNone\u001b[39;00m):\n\u001b[1;32m-> 3080\u001b[0m     \u001b[38;5;28;01mreturn\u001b[39;00m \u001b[43m_det\u001b[49m\u001b[43m(\u001b[49m\u001b[38;5;28;43mself\u001b[39;49m\u001b[43m,\u001b[49m\u001b[43m \u001b[49m\u001b[43mmethod\u001b[49m\u001b[38;5;241;43m=\u001b[39;49m\u001b[43mmethod\u001b[49m\u001b[43m,\u001b[49m\u001b[43m \u001b[49m\u001b[43miszerofunc\u001b[49m\u001b[38;5;241;43m=\u001b[39;49m\u001b[43miszerofunc\u001b[49m\u001b[43m)\u001b[49m\n",
      "File \u001b[1;32mc:\\Users\\Admin\\AppData\\Local\\Programs\\Python\\Python310\\lib\\site-packages\\sympy\\matrices\\determinant.py:698\u001b[0m, in \u001b[0;36m_det\u001b[1;34m(M, method, iszerofunc)\u001b[0m\n\u001b[0;32m    695\u001b[0m         \u001b[38;5;28;01mreturn\u001b[39;00m _get_intermediate_simp(_dotprodsimp)(m)\n\u001b[0;32m    697\u001b[0m dets \u001b[38;5;241m=\u001b[39m []\n\u001b[1;32m--> 698\u001b[0m \u001b[38;5;28;01mfor\u001b[39;00m b \u001b[38;5;129;01min\u001b[39;00m \u001b[43mM\u001b[49m\u001b[38;5;241;43m.\u001b[39;49m\u001b[43mstrongly_connected_components\u001b[49m\u001b[43m(\u001b[49m\u001b[43m)\u001b[49m:\n\u001b[0;32m    699\u001b[0m     \u001b[38;5;28;01mif\u001b[39;00m method \u001b[38;5;241m==\u001b[39m \u001b[38;5;124m\"\u001b[39m\u001b[38;5;124mdomain-ge\u001b[39m\u001b[38;5;124m\"\u001b[39m: \u001b[38;5;66;03m# uses DomainMatrix to evaluate determinant\u001b[39;00m\n\u001b[0;32m    700\u001b[0m         det \u001b[38;5;241m=\u001b[39m _det_DOM(M[b, b])\n",
      "File \u001b[1;32mc:\\Users\\Admin\\AppData\\Local\\Programs\\Python\\Python310\\lib\\site-packages\\sympy\\matrices\\matrixbase.py:5229\u001b[0m, in \u001b[0;36mMatrixBase.strongly_connected_components\u001b[1;34m(self)\u001b[0m\n\u001b[0;32m   5228\u001b[0m \u001b[38;5;28;01mdef\u001b[39;00m\u001b[38;5;250m \u001b[39m\u001b[38;5;21mstrongly_connected_components\u001b[39m(\u001b[38;5;28mself\u001b[39m):\n\u001b[1;32m-> 5229\u001b[0m     \u001b[38;5;28;01mreturn\u001b[39;00m \u001b[43m_strongly_connected_components\u001b[49m\u001b[43m(\u001b[49m\u001b[38;5;28;43mself\u001b[39;49m\u001b[43m)\u001b[49m\n",
      "File \u001b[1;32mc:\\Users\\Admin\\AppData\\Local\\Programs\\Python\\Python310\\lib\\site-packages\\sympy\\matrices\\graph.py:65\u001b[0m, in \u001b[0;36m_strongly_connected_components\u001b[1;34m(M)\u001b[0m\n\u001b[0;32m     44\u001b[0m \u001b[38;5;250m\u001b[39m\u001b[38;5;124;03m\"\"\"Returns the list of strongly connected vertices of the graph when\u001b[39;00m\n\u001b[0;32m     45\u001b[0m \u001b[38;5;124;03ma square matrix is viewed as a weighted graph.\u001b[39;00m\n\u001b[0;32m     46\u001b[0m \n\u001b[1;32m   (...)\u001b[0m\n\u001b[0;32m     62\u001b[0m \u001b[38;5;124;03m[[0, 4, 6], [2, 3, 7], [1, 5, 8]]\u001b[39;00m\n\u001b[0;32m     63\u001b[0m \u001b[38;5;124;03m\"\"\"\u001b[39;00m\n\u001b[0;32m     64\u001b[0m \u001b[38;5;28;01mif\u001b[39;00m \u001b[38;5;129;01mnot\u001b[39;00m M\u001b[38;5;241m.\u001b[39mis_square:\n\u001b[1;32m---> 65\u001b[0m     \u001b[38;5;28;01mraise\u001b[39;00m NonSquareMatrixError\n\u001b[0;32m     67\u001b[0m \u001b[38;5;66;03m# RepMatrix uses the more efficient DomainMatrix.scc() method\u001b[39;00m\n\u001b[0;32m     68\u001b[0m rep \u001b[38;5;241m=\u001b[39m \u001b[38;5;28mgetattr\u001b[39m(M, \u001b[38;5;124m'\u001b[39m\u001b[38;5;124m_rep\u001b[39m\u001b[38;5;124m'\u001b[39m, \u001b[38;5;28;01mNone\u001b[39;00m)\n",
      "\u001b[1;31mNonSquareMatrixError\u001b[0m: "
     ]
    }
   ],
   "source": [
    "import sympy as sp\n",
    "\n",
    "# Định nghĩa biến\n",
    "x, y, e = sp.symbols('x y e')\n",
    "\n",
    "# Các điểm trên đường tròn (x1, y1), (x2, y2), (x3, y3)\n",
    "points = [(1, 0), (0, 1), (-1, 0)]  # Ví dụ với 3 điểm\n",
    "\n",
    "# Tạo ma trận cho đường tròn\n",
    "matrix = sp.Matrix([[points[0][0], points[0][1], points[0][0]**2 + points[0][1]**2, 1],\n",
    "                     [points[1][0], points[1][1], points[1][0]**2 + points[1][1]**2, 1],\n",
    "                     [points[2][0], points[2][1], points[2][0]**2 + points[2][1]**2, 1]])\n",
    "\n",
    "# Tính định thức\n",
    "det = matrix.det()\n",
    "print(\"Định thức của ma trận:\\n\", det)\n",
    "\n",
    "# Giải phương trình đường tròn\n",
    "circle_eq = sp.Eq(det, 0)\n",
    "print(\"Phương trình đường tròn:\\n\", circle_eq)"
   ]
  },
  {
   "cell_type": "code",
   "execution_count": null,
   "id": "0b5b90da",
   "metadata": {},
   "outputs": [],
   "source": []
  },
  {
   "cell_type": "code",
   "execution_count": null,
   "id": "4d37cbce",
   "metadata": {},
   "outputs": [],
   "source": []
  },
  {
   "cell_type": "code",
   "execution_count": null,
   "id": "67fb1be8",
   "metadata": {},
   "outputs": [],
   "source": []
  }
 ],
 "metadata": {
  "kernelspec": {
   "display_name": "Python 3",
   "language": "python",
   "name": "python3"
  },
  "language_info": {
   "codemirror_mode": {
    "name": "ipython",
    "version": 3
   },
   "file_extension": ".py",
   "mimetype": "text/x-python",
   "name": "python",
   "nbconvert_exporter": "python",
   "pygments_lexer": "ipython3",
   "version": "3.10.11"
  }
 },
 "nbformat": 4,
 "nbformat_minor": 5
}
