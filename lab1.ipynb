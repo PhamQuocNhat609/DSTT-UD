{
 "cells": [
  {
   "cell_type": "code",
   "execution_count": 1,
   "id": "e2c826c7",
   "metadata": {},
   "outputs": [
    {
     "name": "stdout",
     "output_type": "stream",
     "text": [
      "[1.0, 3.0, 5.0, 7.0]\n",
      "[1.0, 3.0, 5.0, 7.0, 1.0, 3.0, 5.0, 7.0]\n",
      "[1.0, 3.0, 5.0, 7.0, 1.0, 3.0, 5.0, 7.0]\n",
      "[0.5, 1.5, 2.5, 3.5]\n"
     ]
    },
    {
     "data": {
      "text/plain": [
       "[0.5, 1.5, 2.5, 3.5]"
      ]
     },
     "execution_count": 1,
     "metadata": {},
     "output_type": "execute_result"
    }
   ],
   "source": [
    "danhsach1 = [1. , 3.]\n",
    "danhsach2 = [5. , 7.]\n",
    "danhsach = danhsach1 + danhsach2\n",
    "print(danhsach)\n",
    "[1.0, 3.0, 5.0, 7.0]   # Kết quả của phép cộng 2 danh sách\n",
    "\n",
    "danhsach_gapdoi = 2 * danhsach\n",
    "print(danhsach_gapdoi)\n",
    "[1.0, 3.0, 5.0, 7.0, 1.0, 3.0, 5.0, 7.0]   # Nhân danh sách với 2 => lặp lại\n",
    "\n",
    "print(danhsach * 2)\n",
    "[1.0, 3.0, 5.0, 7.0, 1.0, 3.0, 5.0, 7.0]   # Tương tự như dòng trên\n",
    "\n",
    "print([x / 2 for x in danhsach])\n",
    "[0.5, 1.5, 2.5, 3.5]   # Chia từng phần tử trong danh sách cho 2\n"
   ]
  },
  {
   "cell_type": "code",
   "execution_count": 2,
   "id": "a5a76bb8",
   "metadata": {},
   "outputs": [
    {
     "name": "stdout",
     "output_type": "stream",
     "text": [
      "Kết quả của anh_xa:\n",
      "[(2, 'ToanCC', 10), (3, 'DSTT', 9), (4, 'ToanRR', 8), (1, 'LaptrinhCB', 7)]\n",
      "Kết quả của tap_hop:\n",
      "{(4, 'ToanRR', 8), (2, 'ToanCC', 10), (1, 'LaptrinhCB', 7), (3, 'DSTT', 9)}\n"
     ]
    }
   ],
   "source": [
    "# Danh sách môn học, thứ tự và điểm số\n",
    "mon_hoc = [\"ToanCC\", \"DSTT\", \"ToanRR\", \"LaptrinhCB\"]\n",
    "thu_tu = [2, 3, 4, 1]\n",
    "diem_so = [10, 9, 8, 7]\n",
    "\n",
    "# Kết hợp các phần tử tương ứng bằng zip\n",
    "anh_xa = zip(thu_tu, mon_hoc, diem_so)\n",
    "\n",
    "# Chuyển kết quả zip thành danh sách và in ra\n",
    "danh_sach_anh_xa = list(anh_xa)\n",
    "print(\"Kết quả của anh_xa:\")\n",
    "print(danh_sach_anh_xa)\n",
    "\n",
    "# Vì zip chỉ dùng 1 lần, cần tạo lại để chuyển sang set\n",
    "anh_xa = zip(thu_tu, mon_hoc, diem_so)\n",
    "tap_hop = set(anh_xa)\n",
    "print(\"Kết quả của tap_hop:\")\n",
    "print(tap_hop)\n"
   ]
  },
  {
   "cell_type": "code",
   "execution_count": 3,
   "id": "c5b119bf",
   "metadata": {},
   "outputs": [
    {
     "name": "stdout",
     "output_type": "stream",
     "text": [
      "lay_monhoc:\n",
      "('ToanCC', 'DSTT', 'ToanRR', 'LaptrinhCB')\n"
     ]
    }
   ],
   "source": [
    "mon_hoc = [\"ToanCC\", \"DSTT\", \"ToanRR\", \"LaptrinhCB\"]\n",
    "thu_tu = [2, 3, 4, 1]\n",
    "diem_so = [10, 9, 8, 7]\n",
    "\n",
    "# Tạo lại zip vì đã dùng trước đó\n",
    "anh_xa = zip(thu_tu, mon_hoc, diem_so)\n",
    "\n",
    "# Phân rã dữ liệu từ zip\n",
    "lay_TT, lay_monhoc , lay_diem = zip(*anh_xa)\n",
    "\n",
    "# In kết quả cần điền\n",
    "print(\"lay_monhoc:\")\n",
    "print(lay_monhoc)\n"
   ]
  },
  {
   "cell_type": "code",
   "execution_count": 5,
   "id": "ac80cc4a",
   "metadata": {},
   "outputs": [
    {
     "name": "stdout",
     "output_type": "stream",
     "text": [
      "0 0 0\n"
     ]
    }
   ],
   "source": [
    "a = b = c = 0\n",
    "mylist = []\n",
    "print(a,b,c)"
   ]
  },
  {
   "cell_type": "code",
   "execution_count": 7,
   "id": "95e7139a",
   "metadata": {},
   "outputs": [
    {
     "name": "stdout",
     "output_type": "stream",
     "text": [
      "3*x + 2\n"
     ]
    }
   ],
   "source": [
    "from sympy import Symbol\n",
    "x = Symbol('x')\n",
    "f = x + x + x + 2\n",
    "print (f)"
   ]
  },
  {
   "cell_type": "code",
   "execution_count": 8,
   "id": "2c14889d",
   "metadata": {},
   "outputs": [
    {
     "name": "stdout",
     "output_type": "stream",
     "text": [
      "3*Chim + 7*Noi\n"
     ]
    }
   ],
   "source": [
    "a = Symbol('Noi')\n",
    "b = Symbol('Chim')\n",
    "print(3*b + 7*a )"
   ]
  },
  {
   "cell_type": "code",
   "execution_count": 9,
   "id": "98b315b5",
   "metadata": {},
   "outputs": [
    {
     "name": "stdout",
     "output_type": "stream",
     "text": [
      "Noi\n",
      "Chim\n"
     ]
    }
   ],
   "source": [
    " a = Symbol('Noi')\n",
    "b = Symbol('Chim')\n",
    "print(a.name)\n",
    "print(b.name)\n"
   ]
  },
  {
   "cell_type": "code",
   "execution_count": 10,
   "id": "5c2003d3",
   "metadata": {},
   "outputs": [
    {
     "name": "stdout",
     "output_type": "stream",
     "text": [
      "s = 2*x*y\n",
      "p = 3*x**2\n",
      "p = (x + 2)*(y + 3)\n",
      "p = (x - 3)*(x + 2) + (x + 2)*(y + 3)\n",
      "p = 0\n",
      "p.expand() = x*y + 3*x + 2*y + 6\n"
     ]
    }
   ],
   "source": [
    "from sympy import Symbol\n",
    "\n",
    "# Khởi tạo biến đại số\n",
    "x = Symbol('x')\n",
    "y = Symbol('y')\n",
    "\n",
    "# Biểu thức đơn giản có tính giao hoán\n",
    "s = x*y + y*x\n",
    "print(\"s =\", s)\n",
    "# Kết quả: s = 2*x*y\n",
    "\n",
    "# Phép nhân có đơn giản biểu thức\n",
    "p = x*(x + 2*x)\n",
    "print(\"p =\", p)\n",
    "# Kết quả: p = 3*x**2\n",
    "\n",
    "# Biểu thức phức tạp hơn không tự triển khai\n",
    "p = (x + 2)*(y + 3)\n",
    "print(\"p =\", p)\n",
    "# Kết quả: p = (x + 2)*(y + 3)\n",
    "\n",
    "# Biểu thức có 2 tích, vẫn không tự khai triển\n",
    "p = (x + 2)*(y + 3) + (x + 2)*(x - 3)\n",
    "print(\"p =\", p)\n",
    "# Kết quả: p = (x + 2)*(y + 3) + (x + 2)*(x - 3)\n",
    "\n",
    "# Biểu thức có thể đơn giản được\n",
    "p = x*(-x + 2*x - x)\n",
    "print(\"p =\", p)\n",
    "# Kết quả: p = 0\n",
    "\n",
    "# Sử dụng expand() để khai triển\n",
    "p = (x + 2)*(y + 3)\n",
    "print(\"p.expand() =\", p.expand())\n",
    "# Kết quả: p.expand() = x*y + 3*x + 2*y + 6\n"
   ]
  },
  {
   "cell_type": "code",
   "execution_count": null,
   "id": "139a7df4",
   "metadata": {},
   "outputs": [],
   "source": [
    "from sympy import Symbol, factor, expand\n",
    "\n",
    "# Khởi tạo biến đại số\n",
    "x = Symbol('x')\n",
    "y = Symbol('y')\n",
    "\n",
    "# --- Phân tích thành nhân tử ---\n",
    "bieuthuc = x**3 - y**3\n",
    "print(\"factor(bieuthuc) =\", factor(bieuthuc))\n",
    "# Kết quả: (x - y)*(x**2 + x*y + y**2)\n",
    "\n",
    "# --- Khai triển biểu thức ---\n",
    "bieuthuc = (x - y)*(x**2 + x*y + y**2)\n",
    "print(\"expand(bieuthuc) =\", expand(bieuthuc))\n",
    "# Kết quả: x**3 - y**3\n"
   ]
  },
  {
   "cell_type": "code",
   "execution_count": 11,
   "id": "64a2ab1c",
   "metadata": {},
   "outputs": [
    {
     "name": "stdout",
     "output_type": "stream",
     "text": [
      "bieuthuc = x**2 - x*y + y**2\n",
      "giatri = 7\n"
     ]
    }
   ],
   "source": [
    "from sympy import Symbol\n",
    "\n",
    "# Khởi tạo biến đại số\n",
    "x = Symbol('x')\n",
    "y = Symbol('y')\n",
    "\n",
    "# Biểu thức ban đầu\n",
    "bieuthuc = x*x - x*y + y*y\n",
    "print(\"bieuthuc =\", bieuthuc)\n",
    "# Kết quả: x**2 - x*y + y**2\n",
    "\n",
    "# Thay thế x = 3, y = 2 vào biểu thức\n",
    "giatri = bieuthuc.subs({x: 3, y: 2})\n",
    "print(\"giatri =\", giatri)\n",
    "# Kết quả: 3**2 - 3*2 + 2**2 = 9 - 6 + 4 = 7\n"
   ]
  },
  {
   "cell_type": "code",
   "execution_count": null,
   "id": "2b50aa8f",
   "metadata": {},
   "outputs": [],
   "source": []
  },
  {
   "cell_type": "code",
   "execution_count": null,
   "id": "3b29c7d3",
   "metadata": {},
   "outputs": [],
   "source": []
  },
  {
   "cell_type": "code",
   "execution_count": null,
   "id": "a95504cf",
   "metadata": {},
   "outputs": [],
   "source": []
  },
  {
   "cell_type": "code",
   "execution_count": null,
   "id": "26407ef4",
   "metadata": {},
   "outputs": [],
   "source": []
  },
  {
   "cell_type": "code",
   "execution_count": null,
   "id": "a0f55340",
   "metadata": {},
   "outputs": [],
   "source": []
  }
 ],
 "metadata": {
  "kernelspec": {
   "display_name": "Python 3",
   "language": "python",
   "name": "python3"
  },
  "language_info": {
   "codemirror_mode": {
    "name": "ipython",
    "version": 3
   },
   "file_extension": ".py",
   "mimetype": "text/x-python",
   "name": "python",
   "nbconvert_exporter": "python",
   "pygments_lexer": "ipython3",
   "version": "3.10.11"
  }
 },
 "nbformat": 4,
 "nbformat_minor": 5
}
