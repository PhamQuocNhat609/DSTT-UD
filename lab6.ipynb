{
 "cells": [
  {
   "cell_type": "code",
   "execution_count": 143,
   "id": "cf141e01",
   "metadata": {},
   "outputs": [
    {
     "name": "stdout",
     "output_type": "stream",
     "text": [
      "Tích vô hướng (inner): 32\n",
      "Tích vô hướng (dot): 32\n",
      "Hai kết quả có giống nhau không? True\n"
     ]
    }
   ],
   "source": [
    "import numpy as np\n",
    "\n",
    "a = np.array([1, 2, 3])\n",
    "b = np.array([4, 5, 6])\n",
    "\n",
    "tich_inner = np.inner(a, b)\n",
    "tich_dot = np.dot(a, b)\n",
    "\n",
    "print(\"Tích vô hướng (inner):\", tich_inner)\n",
    "print(\"Tích vô hướng (dot):\", tich_dot)\n",
    "\n",
    "print(\"Hai kết quả có giống nhau không?\", np.array_equal(tich_inner, tich_dot))"
   ]
  },
  {
   "cell_type": "code",
   "execution_count": 144,
   "id": "096232a8",
   "metadata": {},
   "outputs": [
    {
     "name": "stdout",
     "output_type": "stream",
     "text": [
      "3.7416573867739413\n",
      "6.0\n"
     ]
    }
   ],
   "source": [
    "a = np.array([1, 2, -3])\n",
    "norm_2 = np.linalg.norm(a) \n",
    "print(norm_2)\n",
    "norm_1 = np.linalg.norm(a, 1)\n",
    "print(norm_1)"
   ]
  },
  {
   "cell_type": "code",
   "execution_count": 145,
   "id": "eca66d6e",
   "metadata": {},
   "outputs": [
    {
     "name": "stdout",
     "output_type": "stream",
     "text": [
      "6.0\n",
      "6.0\n",
      "3.7416573867739413\n",
      "3.7416573867739413\n",
      "3.3019272488946263\n",
      "3.3019272488946263\n",
      "nan\n",
      "inf\n"
     ]
    },
    {
     "name": "stderr",
     "output_type": "stream",
     "text": [
      "C:\\Users\\Admin\\AppData\\Local\\Temp\\ipykernel_9772\\1951074243.py:4: RuntimeWarning: invalid value encountered in power\n",
      "  return (sum(abs(x) ** p for x in vector)) ** (1/p)\n"
     ]
    }
   ],
   "source": [
    "import math\n",
    "\n",
    "def chuan(vector, p):\n",
    "    return (sum(abs(x) ** p for x in vector)) ** (1/p)\n",
    "\n",
    "a = np.array([1, 2, -3])\n",
    "\n",
    "result_1 = chuan(a, 1)  \n",
    "result_2 = np.linalg.norm(a, 1)  \n",
    "result_3 = chuan(a, 2)  \n",
    "result_4 = np.linalg.norm(a, 2)  \n",
    "result_5 = chuan(a, 3) \n",
    "result_6 = np.linalg.norm(a, 3) \n",
    "result_7 = chuan(a, 1000)  \n",
    "result_8 = np.linalg.norm(a, 1000)  \n",
    "\n",
    "print(result_1)\n",
    "print(result_2)\n",
    "print(result_3)\n",
    "print(result_4)\n",
    "print(result_5)\n",
    "print(result_6)\n",
    "print(result_7)\n",
    "print(result_8)"
   ]
  },
  {
   "cell_type": "code",
   "execution_count": 146,
   "id": "cfd22fb6",
   "metadata": {},
   "outputs": [
    {
     "name": "stdout",
     "output_type": "stream",
     "text": [
      "3.7416573867739413\n",
      "3.0\n",
      "inf\n"
     ]
    }
   ],
   "source": [
    "from scipy import linalg\n",
    "\n",
    "a = np.array([1, 2, -3])\n",
    "\n",
    "result_1 = linalg.norm(a) \n",
    "result_2 = linalg.norm(a, 100)  \n",
    "result_3 = linalg.norm(a, 1000) \n",
    "\n",
    "print(result_1)\n",
    "print(result_2)\n",
    "print(result_3)"
   ]
  },
  {
   "cell_type": "code",
   "execution_count": 147,
   "id": "78ea307b",
   "metadata": {},
   "outputs": [
    {
     "name": "stdout",
     "output_type": "stream",
     "text": [
      "[[ 5  4 -4 -9]\n",
      " [-4  3 -3  8]\n",
      " [ 3 -2 -1  6]]\n",
      "[1.3 0.9 0. ]\n"
     ]
    }
   ],
   "source": [
    "\n",
    "m = 10\n",
    "v1 = np.array([5, -4, 3])\n",
    "v2 = np.array([4, 3, -2])\n",
    "v3 = np.array([-4, -3, -1])\n",
    "v4 = np.array([-9, 8, 6])\n",
    "mi = np.array([2, 5, 2, 1])\n",
    "M = np.array([v1, v2, v3, v4])\n",
    "\n",
    "MT = M.transpose()\n",
    "print(MT)\n",
    "\n",
    "v = (1.0 / m) * MT.dot(mi)\n",
    "print(v)"
   ]
  },
  {
   "cell_type": "code",
   "execution_count": 148,
   "id": "b35bca26",
   "metadata": {},
   "outputs": [
    {
     "name": "stdout",
     "output_type": "stream",
     "text": [
      "x100 (tỷ lệ thất nghiệp): 0.9855072337572737\n",
      "y100 (tỷ lệ có việc làm): 0.01449276624272995\n"
     ]
    }
   ],
   "source": [
    "\n",
    "# Khai báo ma trận A\n",
    "A = np.array([[0.998, 0.136],\n",
    "              [0.002, 0.864]])\n",
    "\n",
    "# Khai báo vector v0\n",
    "v0 = np.array([0.95, 0.05])\n",
    "\n",
    "# Tính A^100\n",
    "A_power_100 = np.linalg.matrix_power(A, 100)\n",
    "\n",
    "# Tính vector x100 và y100\n",
    "result = A_power_100.dot(v0)\n",
    "x100 = result[0]\n",
    "y100 = result[1]\n",
    "\n",
    "print(\"x100 (tỷ lệ thất nghiệp):\", x100)\n",
    "print(\"y100 (tỷ lệ có việc làm):\", y100)"
   ]
  },
  {
   "cell_type": "code",
   "execution_count": 149,
   "id": "6b15ef5f",
   "metadata": {},
   "outputs": [
    {
     "name": "stdout",
     "output_type": "stream",
     "text": [
      "⎧   68         ⎫\n",
      "⎨x: ──, y: 1/69⎬\n",
      "⎩   69         ⎭\n"
     ]
    }
   ],
   "source": [
    "import sympy as sym\n",
    "\n",
    "x, y = sym.symbols('x y')\n",
    "xy = sym.Matrix([x, y])  \n",
    "\n",
    "A = sym.Matrix([[1, -68], [1, 1]])\n",
    "v = sym.Matrix([0, 1])\n",
    "\n",
    "nghiem = sym.solve([A * xy - v])\n",
    "\n",
    "print(sym.pretty(nghiem))"
   ]
  },
  {
   "cell_type": "code",
   "execution_count": 150,
   "id": "bfeb7950",
   "metadata": {},
   "outputs": [
    {
     "name": "stdout",
     "output_type": "stream",
     "text": [
      "Au =\n",
      " [[-24]\n",
      " [ 20]]\n",
      "-4u =\n",
      " [[-24]\n",
      " [ 20]]\n",
      "Kiểm tra Au == -4u: True\n"
     ]
    }
   ],
   "source": [
    "\n",
    "A = np.array([[1, 6],\n",
    "              [5, 2]])\n",
    "u = np.array([[6],\n",
    "              [-5]])\n",
    "Au = A @ u        \n",
    "right = -4 * u     \n",
    "\n",
    "print(\"Au =\\n\", Au)\n",
    "print(\"-4u =\\n\", right)\n",
    "print(\"Kiểm tra Au == -4u:\", np.allclose(Au, right))\n"
   ]
  },
  {
   "cell_type": "code",
   "execution_count": 151,
   "id": "911c95b1",
   "metadata": {},
   "outputs": [
    {
     "name": "stdout",
     "output_type": "stream",
     "text": [
      "[-7.000, 3.000]\n",
      "[-7, 3]\n"
     ]
    }
   ],
   "source": [
    "import sympy\n",
    "x, y, Lambda = sympy.symbols('x y Lambda')\n",
    "I = sympy.eye(2) \n",
    "A = sympy.Matrix([[2,3],[3,-6]])\n",
    "phuongtrinh = sympy.Eq(sympy.det(Lambda*I - A), 0)\n",
    "nghiem = sympy.solve(phuongtrinh)\n",
    "print([sympy.N(phantu,4) for phantu in nghiem])\n",
    "print(sympy.pretty(nghiem))\n"
   ]
  },
  {
   "cell_type": "code",
   "execution_count": 152,
   "id": "b67b4a8b",
   "metadata": {},
   "outputs": [
    {
     "name": "stdout",
     "output_type": "stream",
     "text": [
      "P^(-1) =\n",
      "[[-0.3  0.9]\n",
      " [ 0.3  0.1]]\n",
      "\n",
      "A.dot(P) =\n",
      "[[ 2.33333333  9.        ]\n",
      " [-7.          3.        ]]\n",
      "\n",
      "P.dot(D) =\n",
      "[[ 2.33333333  9.        ]\n",
      " [-7.          3.        ]]\n",
      "\n",
      "A^1000 =\n",
      "[[-6.25396533e+08 -3.52488701e+08]\n",
      " [-3.52488701e+08  3.14573335e+08]]\n",
      "\n",
      "D^2 =\n",
      "[[49  0]\n",
      " [ 0  9]]\n"
     ]
    }
   ],
   "source": [
    "from numpy import linalg as LA\n",
    "\n",
    "A = np.array([[2, 3],\n",
    "              [3, -6]])\n",
    "\n",
    "D = np.array([[-7, 0],\n",
    "              [0, 3]])\n",
    "\n",
    "P = np.array([[-1/3, 3],\n",
    "              [1,    1]])\n",
    "\n",
    "P1 = LA.inv(P)\n",
    "print(\"P^(-1) =\")\n",
    "print(P1)\n",
    "print()\n",
    "\n",
    "print(\"A.dot(P) =\")\n",
    "print(A.dot(P))\n",
    "print()\n",
    "\n",
    "print(\"P.dot(D) =\")\n",
    "print(P.dot(D))\n",
    "print()\n",
    "\n",
    "A_1000 = P @ (D ** 1000) @ P1\n",
    "print(\"A^1000 =\")\n",
    "print(A_1000)\n",
    "print()\n",
    "\n",
    "print(\"D^2 =\")\n",
    "print(D ** 2)\n"
   ]
  },
  {
   "cell_type": "code",
   "execution_count": 153,
   "id": "cc43f95a",
   "metadata": {},
   "outputs": [
    {
     "name": "stdout",
     "output_type": "stream",
     "text": [
      "3.7416573867739413\n"
     ]
    }
   ],
   "source": [
    "a = np.array([1,2,3])\n",
    "mag = np.sqrt(a.dot(a))\n",
    "print (mag) "
   ]
  },
  {
   "cell_type": "code",
   "execution_count": 154,
   "id": "feeab0b7",
   "metadata": {},
   "outputs": [
    {
     "name": "stdout",
     "output_type": "stream",
     "text": [
      "3.7416573867739413\n"
     ]
    }
   ],
   "source": [
    "mag = np.sqrt(a @ a )\n",
    "print(mag)"
   ]
  },
  {
   "cell_type": "code",
   "execution_count": 155,
   "id": "c80f8e5c",
   "metadata": {},
   "outputs": [
    {
     "name": "stdout",
     "output_type": "stream",
     "text": [
      "3.7416573867739413\n"
     ]
    }
   ],
   "source": [
    "mag = np.sqrt(np.inner(a,a))\n",
    "print(mag)"
   ]
  },
  {
   "cell_type": "code",
   "execution_count": 156,
   "id": "230265ab",
   "metadata": {},
   "outputs": [
    {
     "name": "stdout",
     "output_type": "stream",
     "text": [
      "3.7416573867739413\n"
     ]
    }
   ],
   "source": [
    "mag = lambda x : math.sqrt(sum(i** 2 for i in x))\n",
    "print(mag(a))"
   ]
  },
  {
   "cell_type": "code",
   "execution_count": 157,
   "id": "2b677841",
   "metadata": {},
   "outputs": [
    {
     "name": "stdout",
     "output_type": "stream",
     "text": [
      "||u - v|| = 5.196152422706632\n",
      "Góc giữa u và v (radian) = 0.2257261285527342\n",
      "Phép chiếu p = [1.66233766 2.07792208 2.49350649]\n"
     ]
    }
   ],
   "source": [
    "from numpy import linalg as LA\n",
    "\n",
    "u = np.array([1, 2, 3])\n",
    "v = np.array([4, 5, 6])\n",
    "\n",
    "distance = LA.norm(u - v)\n",
    "print(\"||u - v|| =\", distance)\n",
    "\n",
    "cos_theta = np.dot(u, v) / (LA.norm(u) * LA.norm(v))\n",
    "theta = np.arccos(cos_theta)\n",
    "print(\"Góc giữa u và v (radian) =\", theta)\n",
    "\n",
    "p = (np.dot(u, v) / np.dot(v, v)) * v\n",
    "print(\"Phép chiếu p =\", p)"
   ]
  }
 ],
 "metadata": {
  "kernelspec": {
   "display_name": "Python 3",
   "language": "python",
   "name": "python3"
  },
  "language_info": {
   "codemirror_mode": {
    "name": "ipython",
    "version": 3
   },
   "file_extension": ".py",
   "mimetype": "text/x-python",
   "name": "python",
   "nbconvert_exporter": "python",
   "pygments_lexer": "ipython3",
   "version": "3.10.11"
  }
 },
 "nbformat": 4,
 "nbformat_minor": 5
}
