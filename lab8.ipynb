{
 "cells": [
  {
   "cell_type": "code",
   "execution_count": 53,
   "id": "1338f66e",
   "metadata": {},
   "outputs": [
    {
     "name": "stdout",
     "output_type": "stream",
     "text": [
      "[ 18 -11   9  -8]\n"
     ]
    }
   ],
   "source": [
    "import numpy as np \n",
    "u = np.array([2,-1,5,0])\n",
    "v = np.array([4,3,1,-1])\n",
    "w = np.array([-6,2,0,3])\n",
    "x = 2*u-(v+3*w)\n",
    "print (x)"
   ]
  },
  {
   "cell_type": "code",
   "execution_count": 54,
   "id": "d98070a3",
   "metadata": {},
   "outputs": [
    {
     "name": "stdout",
     "output_type": "stream",
     "text": [
      "[ 1. -2. -1.]\n"
     ]
    }
   ],
   "source": [
    "import numpy as np\n",
    "\n",
    "# Định nghĩa ma trận A và vector B\n",
    "A = np.matrix([[0, -1, 3], [1, 1, 1], [4, 2, 2]])\n",
    "B = np.array([-1, -2, -2])\n",
    "\n",
    "# Giải hệ phương trình\n",
    "X = np.linalg.solve(A, B)\n",
    "\n",
    "# In kết quả\n",
    "print(X)"
   ]
  },
  {
   "cell_type": "code",
   "execution_count": 55,
   "id": "585a007d",
   "metadata": {},
   "outputs": [
    {
     "name": "stdout",
     "output_type": "stream",
     "text": [
      "Lỗi khi tính nghịch đảo A: Singular matrix\n",
      "Lỗi khi tính nghịch đảo B: Singular matrix\n",
      "Nghịch đảo của A + B:\n",
      " [[1. 0.]\n",
      " [0. 1.]]\n"
     ]
    }
   ],
   "source": [
    "import numpy as np\n",
    "from numpy import linalg as LA\n",
    "\n",
    "# Định nghĩa ma trận A và B\n",
    "A = np.matrix([[1, 0], [0, 0]])\n",
    "B = np.matrix([[0, 0], [0, 1]])\n",
    "\n",
    "# Kiểm tra ma trận A\n",
    "try:\n",
    "    inv_A = LA.inv(A)\n",
    "    print(inv_A)\n",
    "except Exception as e:\n",
    "    print(\"Lỗi khi tính nghịch đảo A:\", e)\n",
    "\n",
    "# Kiểm tra ma trận B\n",
    "try:\n",
    "    inv_B = LA.inv(B)\n",
    "    print(inv_B)\n",
    "except Exception as e:\n",
    "    print(\"Lỗi khi tính nghịch đảo B:\", e)\n",
    "\n",
    "# Kiểm tra ma trận A + B\n",
    "inv_A_plus_B = LA.inv(A + B)\n",
    "print(\"Nghịch đảo của A + B:\\n\", inv_A_plus_B)"
   ]
  },
  {
   "cell_type": "code",
   "execution_count": 56,
   "id": "3d731809",
   "metadata": {},
   "outputs": [
    {
     "name": "stdout",
     "output_type": "stream",
     "text": [
      "Định thức của A: 0.0\n",
      "Định thức của B: 0.0\n",
      "Định thức của A + B: 1.0\n"
     ]
    }
   ],
   "source": [
    "# Tính định thức của A\n",
    "det_A = LA.det(A)\n",
    "print(\"Định thức của A:\", det_A)\n",
    "\n",
    "# Tính định thức của B\n",
    "det_B = LA.det(B)\n",
    "print(\"Định thức của B:\", det_B)\n",
    "\n",
    "# Tính định thức của A + B\n",
    "det_A_plus_B = LA.det(A + B)\n",
    "print(\"Định thức của A + B:\", det_A_plus_B)"
   ]
  },
  {
   "cell_type": "code",
   "execution_count": 57,
   "id": "d4a21eb5",
   "metadata": {},
   "outputs": [],
   "source": [
    "import sympy as sp\n",
    "\n",
    "x, y = sp.symbols('x y')  # Khai báo 2 biến x và y\n",
    "A = sp.Matrix([[x, y], [y, x]])  # Ma trận A\n",
    "x1, y1 = sp.symbols('x1 y1')\n",
    "A1 = sp.Matrix([[x1, y1], [y1, x1]])\n",
    "x2, y2 = sp.symbols('x2 y2')\n",
    "A2 = sp.Matrix([[x2, y2], [y2, x2]])"
   ]
  },
  {
   "cell_type": "code",
   "execution_count": 58,
   "id": "1988b668",
   "metadata": {},
   "outputs": [
    {
     "data": {
      "text/latex": [
       "$\\displaystyle \\left[\\begin{matrix}x_{1} & y_{1}\\\\y_{1} & x_{1}\\end{matrix}\\right]$"
      ],
      "text/plain": [
       "Matrix([\n",
       "[x1, y1],\n",
       "[y1, x1]])"
      ]
     },
     "execution_count": 58,
     "metadata": {},
     "output_type": "execute_result"
    }
   ],
   "source": [
    "A1.T"
   ]
  },
  {
   "cell_type": "code",
   "execution_count": 59,
   "id": "54d1e4b1",
   "metadata": {},
   "outputs": [
    {
     "data": {
      "text/plain": [
       "True"
      ]
     },
     "execution_count": 59,
     "metadata": {},
     "output_type": "execute_result"
    }
   ],
   "source": [
    "((A1 + A2).T).equals(A1 + A2)"
   ]
  },
  {
   "cell_type": "code",
   "execution_count": 60,
   "id": "a1efc40d",
   "metadata": {},
   "outputs": [
    {
     "name": "stdout",
     "output_type": "stream",
     "text": [
      "Matrix([[c*x, c*y], [c*y, c*x]])\n"
     ]
    }
   ],
   "source": [
    "c = sp.symbols('c')\n",
    "print(c * A)"
   ]
  },
  {
   "cell_type": "code",
   "execution_count": 61,
   "id": "26118872",
   "metadata": {},
   "outputs": [
    {
     "data": {
      "text/plain": [
       "True"
      ]
     },
     "execution_count": 61,
     "metadata": {},
     "output_type": "execute_result"
    }
   ],
   "source": [
    "((c * A).T).equals(c * A)"
   ]
  },
  {
   "cell_type": "code",
   "execution_count": 62,
   "id": "14f4244b",
   "metadata": {},
   "outputs": [
    {
     "name": "stdout",
     "output_type": "stream",
     "text": [
      "Hệ số cho u: [ 5.0000000e-01  1.2490009e-16 -5.0000000e-01]\n",
      "Hệ số cho w: [0.08333333 0.16666667 0.25      ]\n"
     ]
    }
   ],
   "source": [
    "import numpy as np\n",
    "\n",
    "# Định nghĩa các vector\n",
    "v1 = np.array([1, 2, 3])\n",
    "v2 = np.array([0, 1, 2])\n",
    "v3 = np.array([-1, 0, 1])\n",
    "\n",
    "# a. Giải hệ cho vector u = (1, 1, 1)\n",
    "u = np.array([1, 1, 1])\n",
    "A = np.array([v1, v2, v3]).T\n",
    "coefficients_a = np.linalg.lstsq(A, u, rcond=None)[0]\n",
    "print(\"Hệ số cho u:\", coefficients_a)\n",
    "\n",
    "# b. Giải hệ cho vector w = (1, -2, 2)\n",
    "w = np.array([1, -2, 2])\n",
    "coefficients_b = np.linalg.lstsq(A, w, rcond=None)[0]\n",
    "print(\"Hệ số cho w:\", coefficients_b)"
   ]
  },
  {
   "cell_type": "code",
   "execution_count": 63,
   "id": "b229d58d",
   "metadata": {},
   "outputs": [
    {
     "name": "stdout",
     "output_type": "stream",
     "text": [
      "{c1: 0, c2: 0, c3: 0}\n"
     ]
    }
   ],
   "source": [
    "import sympy as sp\n",
    "\n",
    "# Khai báo các hệ số\n",
    "c1, c2, c3 = sp.symbols('c1 c2 c3')\n",
    "\n",
    "# Giải hệ phương trình\n",
    "solution = sp.solve([c1 + 0*c2 - 2*c3, 2*c1 + c2 + 0*c3, 3*c1 + 2*c2 + c3], (c1, c2, c3))\n",
    "print(solution)  # Kết quả sẽ là {c1: 0, c2: 0, c3: 0}"
   ]
  },
  {
   "cell_type": "code",
   "execution_count": 64,
   "id": "9dcecf32",
   "metadata": {},
   "outputs": [
    {
     "name": "stdout",
     "output_type": "stream",
     "text": [
      "Kết quả tính chất tập sinh: {c1: u1/2 + u2/2, c2: u1/2 - u2/2}\n",
      "Kết quả tính chất độc lập tuyến tính: {c1: 0, c2: 0}\n"
     ]
    }
   ],
   "source": [
    "# Kiểm tra tính chất tập sinh\n",
    "u1, u2 = sp.symbols('u1 u2')\n",
    "solution_synthesis = sp.solve([c1 + c2 - u1, c1 - c2 - u2], (c1, c2))\n",
    "print(\"Kết quả tính chất tập sinh:\", solution_synthesis)\n",
    "\n",
    "# Kiểm tra tính chất độc lập tuyến tính\n",
    "solution_independence = sp.solve([c1 + c2, c1 - c2], (c1, c2))\n",
    "print(\"Kết quả tính chất độc lập tuyến tính:\", solution_independence)"
   ]
  },
  {
   "cell_type": "code",
   "execution_count": 65,
   "id": "df698b28",
   "metadata": {},
   "outputs": [
    {
     "name": "stdout",
     "output_type": "stream",
     "text": [
      "Kết quả tịnh tiến:\n",
      " [[4 4 7 7 5 5 6 6 5 5]\n",
      " [2 7 7 6 6 5 5 4 4 2]]\n"
     ]
    }
   ],
   "source": [
    "import numpy as np\n",
    "\n",
    "# Khai báo các điểm\n",
    "P = np.array([[0, 0, 3, 3, 1, 1, 2, 2, 1, 1],\n",
    "              [0, 5, 5, 4, 4, 3, 3, 2, 2, 0]])\n",
    "\n",
    "# Tọa độ dời\n",
    "vecdelta = np.array([4, 2])\n",
    "\n",
    "# Biến đổi tịnh tiến\n",
    "P_caua = (P.T + vecdelta).T\n",
    "print(\"Kết quả tịnh tiến:\\n\", P_caua)"
   ]
  },
  {
   "cell_type": "code",
   "execution_count": 66,
   "id": "ae037c5b",
   "metadata": {},
   "outputs": [
    {
     "name": "stdout",
     "output_type": "stream",
     "text": [
      "Kết quả tịnh tiến và co giãn:\n",
      " [[ 4.  4.  7.  7.  5.  5.  6.  6.  5.  5.]\n",
      " [-2.  8.  8.  6.  6.  4.  4.  2.  2. -2.]]\n"
     ]
    }
   ],
   "source": [
    "import numpy as np\n",
    "\n",
    "# Khai báo các điểm\n",
    "P = np.array([[0, 0, 3, 3, 1, 1, 2, 2, 1, 1],\n",
    "              [0, 5, 5, 4, 4, 3, 3, 2, 2, 0]])\n",
    "\n",
    "# Tọa độ dời\n",
    "vecdelta = np.array([4, -2])\n",
    "\n",
    "# Ma trận biến đổi\n",
    "matran_biendoi = np.array([[1.0, 0.0],\n",
    "                            [0.0, 2.0]])\n",
    "\n",
    "# Biến đổi tịnh tiến và co giãn\n",
    "P_caub = (P.T @ matran_biendoi + vecdelta).T\n",
    "print(\"Kết quả tịnh tiến và co giãn:\\n\", P_caub)"
   ]
  },
  {
   "cell_type": "code",
   "execution_count": 67,
   "id": "5d1d864f",
   "metadata": {},
   "outputs": [
    {
     "name": "stdout",
     "output_type": "stream",
     "text": [
      "Kết quả sau biến đổi tịnh tiến và đổi xung:\n",
      " [[ 4  4  1  1  3  3  2  2  3  3]\n",
      " [-2  3  3  2  2  1  1  0  0 -2]]\n"
     ]
    }
   ],
   "source": [
    "import numpy as np\n",
    "\n",
    "# Khai báo các điểm\n",
    "P = np.array([[0, 0, 3, 3, 1, 1, 2, 2, 1, 1],\n",
    "              [0, 5, 5, 4, 4, 3, 3, 2, 2, 0]])\n",
    "\n",
    "# Tọa độ dời\n",
    "a, b = 4, -2  # Ví dụ về tọa độ dời\n",
    "\n",
    "# Ma trận đổi xung theo trục y\n",
    "matran_doi_xung = np.array([[-1, 0],\n",
    "                             [0, 1]])\n",
    "\n",
    "# Biến đổi\n",
    "P_doi_xung = (P.T @ matran_doi_xung).T  # Đổi xung\n",
    "P_ket_qua = (P_doi_xung.T + np.array([a, b])).T  # Tịnh tiến\n",
    "\n",
    "print(\"Kết quả sau biến đổi tịnh tiến và đổi xung:\\n\", P_ket_qua)"
   ]
  },
  {
   "cell_type": "code",
   "execution_count": 68,
   "id": "af207bea",
   "metadata": {},
   "outputs": [
    {
     "name": "stdout",
     "output_type": "stream",
     "text": [
      "Kết quả sau biến đổi tịnh tiến và shearing:\n",
      " [[ 4  2]\n",
      " [ 9  7]\n",
      " [12  7]\n",
      " [11  6]\n",
      " [ 9  6]\n",
      " [ 8  5]\n",
      " [ 9  5]\n",
      " [ 8  4]\n",
      " [ 7  4]\n",
      " [ 5  2]]\n"
     ]
    }
   ],
   "source": [
    "import numpy as np\n",
    "\n",
    "# Khai báo các điểm\n",
    "P = np.array([[0, 0, 3, 3, 1, 1, 2, 2, 1, 1],\n",
    "              [0, 5, 5, 4, 4, 3, 3, 2, 2, 0]])\n",
    "\n",
    "# Tọa độ dời\n",
    "b, k = 4, 2\n",
    "\n",
    "# Giá trị shearing\n",
    "alpha, beta = 1, 0  # Thay đổi alpha, beta theo yêu cầu\n",
    "\n",
    "# Ma trận shearing\n",
    "shearing_matrix = np.array([[1, alpha],\n",
    "                             [beta, 1]])\n",
    "\n",
    "# Biến đổi shearing\n",
    "P_sheared = (shearing_matrix @ P).T  # Áp dụng shearing\n",
    "P_sheared[:, 0] += b  # Dời tọa độ x\n",
    "P_sheared[:, 1] += k  # Dời tọa độ y\n",
    "\n",
    "print(\"Kết quả sau biến đổi tịnh tiến và shearing:\\n\", P_sheared)"
   ]
  },
  {
   "cell_type": "code",
   "execution_count": 69,
   "id": "5fb466b9",
   "metadata": {},
   "outputs": [],
   "source": [
    "import sympy as sp\n",
    "from sympy import lambdify\n",
    "\n",
    "# Khai báo các biến\n",
    "x1, x2, x3 = sp.symbols('x1 x2 x3')\n",
    "\n",
    "# Định nghĩa biểu thức\n",
    "bieuthuc1 = x1 - x2 + x3\n",
    "f1 = lambdify([x1, x2, x3], bieuthuc1, 'numpy')\n",
    "\n",
    "# Khai báo thêm biến a, b, c\n",
    "a, b, c = sp.symbols('a b c')\n",
    "\n",
    "# Khai báo thêm biến d, e, f\n",
    "d, e, f = sp.symbols('d e f')\n",
    "\n",
    "# Tính giá trị của f1 với các biến\n",
    "result1 = f1(a, b, c)\n",
    "result2 = f1(d, e, f)\n",
    "result3 = f1(a + d, b + e, c + f)"
   ]
  },
  {
   "cell_type": "code",
   "execution_count": 70,
   "id": "dea3d846",
   "metadata": {},
   "outputs": [
    {
     "name": "stdout",
     "output_type": "stream",
     "text": [
      "a - b + c\n"
     ]
    }
   ],
   "source": [
    "print(result1)  # Ghi lại kết quả"
   ]
  },
  {
   "cell_type": "code",
   "execution_count": 71,
   "id": "68dc179a",
   "metadata": {},
   "outputs": [
    {
     "name": "stdout",
     "output_type": "stream",
     "text": [
      "d - e + f\n"
     ]
    }
   ],
   "source": [
    "print(result2)  # Ghi lại kết quả"
   ]
  },
  {
   "cell_type": "code",
   "execution_count": 72,
   "id": "c27bc617",
   "metadata": {},
   "outputs": [
    {
     "name": "stdout",
     "output_type": "stream",
     "text": [
      "a - b + c + d - e + f\n"
     ]
    }
   ],
   "source": [
    "print(result3)  # Ghi lại kết quả"
   ]
  },
  {
   "cell_type": "code",
   "execution_count": 73,
   "id": "ff5baffc",
   "metadata": {},
   "outputs": [
    {
     "name": "stdout",
     "output_type": "stream",
     "text": [
      "True\n"
     ]
    }
   ],
   "source": [
    "comparison1 = f1(a, b, c) + f1(d, e, f) == f1(a + d, b + e, c + f)\n",
    "print(comparison1)  # Ghi lại kết quả (đúng hoặc sai)"
   ]
  },
  {
   "cell_type": "code",
   "execution_count": 74,
   "id": "53b958d9",
   "metadata": {},
   "outputs": [
    {
     "name": "stdout",
     "output_type": "stream",
     "text": [
      "True\n"
     ]
    }
   ],
   "source": [
    "equals_comparison = (f1(a, b, c) + f1(d, e, f)).equals(f1(a + d, b + e, c + f))\n",
    "print(equals_comparison)  # Ghi lại kết quả (đúng hoặc sai)"
   ]
  },
  {
   "cell_type": "code",
   "execution_count": 75,
   "id": "e92f7ed7",
   "metadata": {},
   "outputs": [
    {
     "name": "stdout",
     "output_type": "stream",
     "text": [
      "g(0,0,0) = Matrix([[0], [2], [0]])\n",
      "Có phải ánh xạ tuyến tính không? False\n"
     ]
    }
   ],
   "source": [
    "import sympy as sp\n",
    "\n",
    "# Khai báo biến\n",
    "x, y, z = sp.symbols('x y z')\n",
    "\n",
    "# Định nghĩa ánh xạ g\n",
    "g = sp.Matrix([x + y, z + 2, 0])\n",
    "\n",
    "# Tính g(0,0,0)\n",
    "g0 = g.subs({x: 0, y: 0, z: 0})\n",
    "print(\"g(0,0,0) =\", g0)\n",
    "\n",
    "# Kiểm tra tuyến tính: g(0) phải bằng 0 và thỏa mãn tính chất cộng và nhân\n",
    "is_linear = g0 == sp.Matrix([0, 0, 0])\n",
    "print(\"Có phải ánh xạ tuyến tính không?\", is_linear)\n"
   ]
  },
  {
   "cell_type": "code",
   "execution_count": 76,
   "id": "8a0fe314",
   "metadata": {},
   "outputs": [
    {
     "data": {
      "image/png": "[encoded data removed]",
      "text/plain": [
       "<Figure size 600x600 with 1 Axes>"
      ]
     },
     "metadata": {},
     "output_type": "display_data"
    }
   ],
   "source": [
    "import matplotlib.pyplot as plt\n",
    "import numpy as np\n",
    "\n",
    "# Tạo hình vuông ban đầu\n",
    "square = np.array([[0, 0], [1, 0], [1, 1], [0, 1], [0, 0]])\n",
    "\n",
    "# Biến đổi đổi x <-> y\n",
    "transform = np.array([[0, 1], [1, 0]])\n",
    "transformed_square = square @ transform.T\n",
    "\n",
    "# Vẽ\n",
    "plt.figure(figsize=(6, 6))\n",
    "plt.plot(square[:,0], square[:,1], label='Hình gốc', color='blue')\n",
    "plt.plot(transformed_square[:,0], transformed_square[:,1], label='Sau biến đổi', color='green')\n",
    "plt.axis('equal')\n",
    "plt.grid(True)\n",
    "plt.legend()\n",
    "plt.title(\"Biến đổi hoán vị x và y\")\n",
    "plt.show()\n"
   ]
  },
  {
   "cell_type": "code",
   "execution_count": 77,
   "id": "51c5fb18",
   "metadata": {},
   "outputs": [
    {
     "name": "stdout",
     "output_type": "stream",
     "text": [
      "Tuyến tính? True\n"
     ]
    }
   ],
   "source": [
    "v1, v2, a, b = sp.symbols('v1 v2 a b')\n",
    "\n",
    "# Định nghĩa ánh xạ\n",
    "T = sp.Matrix([v1 - v2, v1 + 2*v2])\n",
    "\n",
    "# Kiểm tra tính tuyến tính: T(a*u + b*v) = a*T(u) + b*T(v)\n",
    "u1, u2 = sp.symbols('u1 u2')\n",
    "v1_, v2_ = sp.symbols('v1_ v2_')\n",
    "\n",
    "u = sp.Matrix([u1, u2])\n",
    "v = sp.Matrix([v1_, v2_])\n",
    "\n",
    "T_u = sp.Matrix([u1 - u2, u1 + 2*u2])\n",
    "T_v = sp.Matrix([v1_ - v2_, v1_ + 2*v2_])\n",
    "\n",
    "lhs = T.subs({v1: a*u1 + b*v1_, v2: a*u2 + b*v2_})\n",
    "rhs = a*T_u + b*T_v\n",
    "\n",
    "print(\"Tuyến tính?\", sp.simplify(lhs - rhs) == sp.Matrix([0, 0]))\n"
   ]
  },
  {
   "cell_type": "code",
   "execution_count": 78,
   "id": "eb154621",
   "metadata": {},
   "outputs": [
    {
     "name": "stdout",
     "output_type": "stream",
     "text": [
      "Eigenvalues và Eigenvectors:\n",
      "λ = 8, eigenvectors = [Matrix([\n",
      "[1],\n",
      "[1]])]\n",
      "λ = 18, eigenvectors = [Matrix([\n",
      "[-1],\n",
      "[ 1]])]\n",
      "\n",
      "Góc xoay (radian): pi/4\n",
      "Góc xoay (độ): 141.371669411541/pi°\n",
      "\n",
      "Ma trận đường chéo sau khi quay tọa độ:\n",
      "⎡8.0   0  ⎤\n",
      "⎢         ⎥\n",
      "⎣ 0   18.0⎦\n",
      "\n",
      "Phương trình chính tắc sau xoay: 8(u)^2 + 18(v)^2 + -72 = 0\n"
     ]
    }
   ],
   "source": [
    "import sympy as sp\n",
    "\n",
    "# Khai báo biến\n",
    "x, y = sp.symbols('x y')\n",
    "\n",
    "# Ma trận hệ số đối xứng A\n",
    "A = sp.Matrix([[13, -5],\n",
    "               [-5, 13]])\n",
    "\n",
    "# Tính trị riêng (eigenvalues) và vector riêng (eigenvectors)\n",
    "eigen_data = A.eigenvects()\n",
    "print(\"Eigenvalues và Eigenvectors:\")\n",
    "for val in eigen_data:\n",
    "    print(f\"λ = {val[0]}, eigenvectors = {val[2]}\")\n",
    "\n",
    "# Góc xoay theta (tính từ vector riêng ứng với trị riêng đầu tiên)\n",
    "v = eigen_data[0][2][0]  # lấy vector riêng đầu tiên\n",
    "angle = sp.atan2(v[1], v[0])  # theta = arctan(vy/vx)\n",
    "angle_deg = sp.deg(angle.evalf())  # đổi sang độ\n",
    "print(f\"\\nGóc xoay (radian): {angle}\")\n",
    "print(f\"Góc xoay (độ): {angle_deg}°\")\n",
    "\n",
    "# Tạo ma trận xoay P sử dụng góc xoay\n",
    "cos_theta = sp.cos(angle)\n",
    "sin_theta = sp.sin(angle)\n",
    "P = sp.Matrix([[cos_theta, -sin_theta],\n",
    "               [sin_theta, cos_theta]])\n",
    "\n",
    "# Đường chéo hóa A' = P^T * A * P\n",
    "A_diag = (P.T * A * P).evalf()\n",
    "print(\"\\nMa trận đường chéo sau khi quay tọa độ:\")\n",
    "sp.pprint(A_diag)\n",
    "\n",
    "# Phương trình chính tắc có dạng:\n",
    "# λ1 u^2 + λ2 v^2 + f = 0  (với f = hằng số sau)\n",
    "λ1 = eigen_data[0][0]\n",
    "λ2 = eigen_data[1][0]\n",
    "f = -72\n",
    "\n",
    "print(f\"\\nPhương trình chính tắc sau xoay: {λ1}(u)^2 + {λ2}(v)^2 + {f} = 0\")\n"
   ]
  }
 ],
 "metadata": {
  "kernelspec": {
   "display_name": "Python 3",
   "language": "python",
   "name": "python3"
  },
  "language_info": {
   "codemirror_mode": {
    "name": "ipython",
    "version": 3
   },
   "file_extension": ".py",
   "mimetype": "text/x-python",
   "name": "python",
   "nbconvert_exporter": "python",
   "pygments_lexer": "ipython3",
   "version": "3.10.11"
  }
 },
 "nbformat": 4,
 "nbformat_minor": 5
}
