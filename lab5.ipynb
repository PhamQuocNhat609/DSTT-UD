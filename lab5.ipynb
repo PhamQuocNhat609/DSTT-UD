{
 "cells": [
  {
   "cell_type": "code",
   "execution_count": 27,
   "id": "12435394",
   "metadata": {},
   "outputs": [
    {
     "name": "stdout",
     "output_type": "stream",
     "text": [
      "Giá trị của E sau khi sao chép từ D:\n",
      "[[1 2]\n",
      " [3 4]]\n"
     ]
    }
   ],
   "source": [
    "import numpy as np\n",
    "D = np.array([[1, 2], [3, 4]])\n",
    "try:\n",
    "    np.copyto(E, D)\n",
    "except NameError as e:\n",
    "    print(\"Lỗi xảy ra:\", e)\n",
    "E = np.array([[1, 2], [3, 5]])\n",
    "np.copyto(E, D)\n",
    "print(\"Giá trị của E sau khi sao chép từ D:\")\n",
    "print(E)\n"
   ]
  },
  {
   "cell_type": "code",
   "execution_count": 28,
   "id": "a561e171",
   "metadata": {},
   "outputs": [
    {
     "name": "stdout",
     "output_type": "stream",
     "text": [
      "[[array([['a', 'b'],\n",
      "         ['c', 'd']], dtype='<U1') 'x']\n",
      " [1 2]]\n"
     ]
    }
   ],
   "source": [
    "import numpy as np\n",
    "x = np.array([['a','b'],['c','d']])\n",
    "y = 'x'\n",
    "C = np.array([[x, y], [1, 2]], dtype=object)\n",
    "print(C)\n"
   ]
  },
  {
   "cell_type": "code",
   "execution_count": 29,
   "id": "e5845563",
   "metadata": {},
   "outputs": [
    {
     "name": "stdout",
     "output_type": "stream",
     "text": [
      "=== Thử tạo np.matrix với mảng 3 chiều ===\n",
      "Lỗi khi tạo np.matrix:\n",
      "matrix must be 2-dimensional\n",
      "\n",
      "=== Tạo np.array với mảng 3 chiều ===\n",
      "Mảng A (np.array):\n",
      "[[[1 2]\n",
      "  [3 4]]\n",
      "\n",
      " [[5 6]\n",
      "  [7 8]]]\n"
     ]
    }
   ],
   "source": [
    "import numpy as np\n",
    "print(\"=== Thử tạo np.matrix với mảng 3 chiều ===\")\n",
    "try:\n",
    "    A = np.matrix([[[1, 2], [3, 4]], [[5, 6], [7, 8]]])\n",
    "except ValueError as e:\n",
    "    print(\"Lỗi khi tạo np.matrix:\")\n",
    "    print(e)\n",
    "print(\"\\n=== Tạo np.array với mảng 3 chiều ===\")\n",
    "A = np.array([[[1, 2], [3, 4]], [[5, 6], [7, 8]]])\n",
    "print(\"Mảng A (np.array):\")\n",
    "print(A)\n"
   ]
  },
  {
   "cell_type": "code",
   "execution_count": 30,
   "id": "65fd4af9",
   "metadata": {},
   "outputs": [
    {
     "name": "stdout",
     "output_type": "stream",
     "text": [
      "=== Ma trận đơn vị 5x5 ===\n",
      "[[1. 0. 0. 0. 0.]\n",
      " [0. 1. 0. 0. 0.]\n",
      " [0. 0. 1. 0. 0.]\n",
      " [0. 0. 0. 1. 0.]\n",
      " [0. 0. 0. 0. 1.]]\n",
      "\n",
      "=== Ma trận ngẫu nhiên 3x2 với phân phối chuẩn ===\n",
      "[[-0.11253464  1.55132031]\n",
      " [-0.16838153  0.73930345]\n",
      " [-1.04801689 -0.25310484]]\n",
      "\n",
      "=== Ma trận 0 kích thước 4x4 ===\n",
      "[[0. 0. 0. 0.]\n",
      " [0. 0. 0. 0.]\n",
      " [0. 0. 0. 0.]\n",
      " [0. 0. 0. 0.]]\n"
     ]
    }
   ],
   "source": [
    "from numpy import matlib\n",
    "print(\"=== Ma trận đơn vị 5x5 ===\")\n",
    "G = matlib.identity(5)  \n",
    "print(G)\n",
    "print(\"\\n=== Ma trận ngẫu nhiên 3x2 với phân phối chuẩn ===\")\n",
    "H = matlib.randn(3, 2)  \n",
    "print(H)\n",
    "print(\"\\n=== Ma trận 0 kích thước 4x4 ===\")\n",
    "K = matlib.zeros([4, 4])  \n",
    "print(K)\n"
   ]
  },
  {
   "cell_type": "code",
   "execution_count": 31,
   "id": "54a7f817",
   "metadata": {},
   "outputs": [
    {
     "name": "stdout",
     "output_type": "stream",
     "text": [
      "Ma trận M cuối cùng:\n",
      "[[165707065  80143857]\n",
      " [ 52746197  25510582]]\n",
      "\n",
      "Giá trị gần đúng của số Pi:\n",
      "3.1415926535897936\n"
     ]
    }
   ],
   "source": [
    "import numpy as np\n",
    "c = [3, 7, 15, 1, 292, 1, 1, 1, 2, 1, 3, 1, 14, 2]\n",
    "M = np.mat([[1, 2], [3, 4]])\n",
    "for i in range(len(c)):\n",
    "    ci = np.mat([[1, 1], [1, 0]])\n",
    "    ci[0, 0] = c[i]\n",
    "    if i == 0:\n",
    "        M = ci\n",
    "    else:\n",
    "        M = M.dot(ci)\n",
    "print(\"Ma trận M cuối cùng:\")\n",
    "print(M)\n",
    "pi_approx = M[0, 0] / M[1, 0]\n",
    "print(\"\\nGiá trị gần đúng của số Pi:\")\n",
    "print(pi_approx)\n"
   ]
  },
  {
   "cell_type": "code",
   "execution_count": 32,
   "id": "f5b8efc2",
   "metadata": {},
   "outputs": [
    {
     "name": "stdout",
     "output_type": "stream",
     "text": [
      "Hệ số hồi quy (A2):\n",
      "[[2.        ]\n",
      " [0.64285714]]\n",
      "\n",
      "Phương trình hồi quy: y = 2.0000 + 0.6429 * x\n",
      "\n",
      "Tổng bình phương sai số: 6.1429\n"
     ]
    }
   ],
   "source": [
    "import numpy as np\n",
    "x_data = np.array([1, 2, 3, 4, 5, 6, 7])    \n",
    "y_data = np.array([3, 4, 2, 5, 6, 5, 7])   \n",
    "X = np.column_stack((np.ones_like(x_data), x_data))  \n",
    "Y = y_data.reshape(-1, 1) \n",
    "XT = X.T\n",
    "A1 = np.linalg.inv(XT @ X) @ XT\n",
    "A2 = A1 @ Y\n",
    "print(\"Hệ số hồi quy (A2):\")\n",
    "print(A2)\n",
    "a0, a1 = A2[0, 0], A2[1, 0]\n",
    "print(f\"\\nPhương trình hồi quy: y = {a0:.4f} + {a1:.4f} * x\")\n",
    "y_pred = X @ A2\n",
    "squared_errors = (Y - y_pred) ** 2\n",
    "total_error = np.sum(squared_errors)\n",
    "print(f\"\\nTổng bình phương sai số: {total_error:.4f}\")\n"
   ]
  },
  {
   "cell_type": "code",
   "execution_count": 33,
   "id": "a784c021",
   "metadata": {},
   "outputs": [],
   "source": [
    "import numpy as np\n",
    "from numpy import linalg\n",
    "def bpcuctieu(a): \n",
    "    b = []   \n",
    "    o1 = []  \n",
    "    for i in range(len(a)):\n",
    "        o1.append(1.0)        \n",
    "        b.append((i + 1) * 1.0) \n",
    "    x = np.array([o1, b]).T   \n",
    "    u = np.dot(x.T, x)         \n",
    "    y = np.array(a).reshape(-1, 1) \n",
    "    u_1 = linalg.inv(u)        \n",
    "    v = np.dot(u_1, x.T)       \n",
    "    A = np.dot(v, y)           \n",
    "\n",
    "    return A  \n"
   ]
  },
  {
   "cell_type": "code",
   "execution_count": 34,
   "id": "ccec82c5",
   "metadata": {},
   "outputs": [
    {
     "name": "stdout",
     "output_type": "stream",
     "text": [
      "Phương trình tuyến tính là: y = 12.1 + (-1.9)x\n"
     ]
    }
   ],
   "source": [
    "dulieu = [10.0, 8.0, 7.0, 5.0, 2.0]   \n",
    "A = bpcuctieu(dulieu)\n",
    "\n",
    "a0 = A[0, 0]\n",
    "a1 = A[1, 0]\n",
    "\n",
    "print(f\"Phương trình tuyến tính là: y = {a0:.1f} + ({a1:.1f})x\")\n"
   ]
  }
 ],
 "metadata": {
  "kernelspec": {
   "display_name": "Python 3",
   "language": "python",
   "name": "python3"
  },
  "language_info": {
   "codemirror_mode": {
    "name": "ipython",
    "version": 3
   },
   "file_extension": ".py",
   "mimetype": "text/x-python",
   "name": "python",
   "nbconvert_exporter": "python",
   "pygments_lexer": "ipython3",
   "version": "3.10.11"
  }
 },
 "nbformat": 4,
 "nbformat_minor": 5
}
